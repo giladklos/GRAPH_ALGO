{
 "cells": [
  {
   "cell_type": "code",
   "execution_count": null,
   "metadata": {},
   "outputs": [],
   "source": [
    "# imports for the entire project \n",
    "# should be runned before starting!\n",
    "\n",
    "from tkinter.tix import ROW\n",
    "import networkx as nx\n",
    "import matplotlib.pyplot as plt\n",
    "from queue import Queue, PriorityQueue\n",
    "import numpy as np\n",
    "from src.Floyd_Warshall_Algo import Floyd_Warshall\n",
    "from src.Dijkstras_Shortest_Path_Algorithm import dijkstra\n",
    "from src.DiGraph import DiGraph\n",
    "from src.GraphElements import EdgeData\n",
    "from src.GraphElements import NodeData\n",
    "from src.create_nx_graph_from_DiGraph import create_nx_graph\n",
    "from src.Find_Graph_Diameter import diameter_dp, best\n",
    "from src import Build_Span_Tree\n",
    "from src import Find_Graph_Diameter\n",
    "from src import find_max_submatrix\n",
    "from src import bfs"
   ]
  },
  {
   "cell_type": "code",
   "execution_count": null,
   "metadata": {},
   "outputs": [],
   "source": [
    "# building a graph"
   ]
  },
  {
   "cell_type": "code",
   "execution_count": null,
   "metadata": {},
   "outputs": [],
   "source": [
    "G = DiGraph()\n",
    "n0 = NodeData(0, (0, -100, 0))\n",
    "n1 = NodeData(1, (100, 0, 0))\n",
    "n2 = NodeData(2, (50, 100, 0))\n",
    "n3 = NodeData(3, (-100, 0, 0))\n",
    "\n",
    "G.add_node(n0.key, n0.location)\n",
    "G.add_node(n1.key, n1.location)\n",
    "G.add_node(n2.key, n2.location)\n",
    "G.add_node(n3.key, n3.location)\n",
    "\n",
    "G.add_edge(0, 1, 1)\n",
    "G.add_edge(1, 2, 3)\n",
    "G.add_edge(2, 3, 4)\n",
    "G.add_edge(3, 0, 1)\n",
    "G.add_edge(3, 1, 2)\n"
   ]
  },
  {
   "cell_type": "code",
   "execution_count": null,
   "metadata": {},
   "outputs": [],
   "source": [
    "N=BFS.bfs(g)\n",
    "for v in N.get_all_v():\n",
    "    print(N.get_node(v).info)"
   ]
  }
 ],
 "metadata": {
  "language_info": {
   "name": "python"
  },
  "orig_nbformat": 4
 },
 "nbformat": 4,
 "nbformat_minor": 2
}
